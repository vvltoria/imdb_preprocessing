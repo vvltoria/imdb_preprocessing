{
 "cells": [
  {
   "cell_type": "code",
   "execution_count": 1,
   "metadata": {},
   "outputs": [],
   "source": [
    "import pandas as pd\n",
    "import numpy as np"
   ]
  },
  {
   "cell_type": "code",
   "execution_count": 2,
   "metadata": {},
   "outputs": [],
   "source": [
    "films = pd.read_csv('./imdb.csv')\n",
    "series = pd.read_csv('./imdb_series_original.csv')"
   ]
  },
  {
   "cell_type": "code",
   "execution_count": 3,
   "metadata": {},
   "outputs": [
    {
     "data": {
      "text/html": [
       "<div>\n",
       "<style scoped>\n",
       "    .dataframe tbody tr th:only-of-type {\n",
       "        vertical-align: middle;\n",
       "    }\n",
       "\n",
       "    .dataframe tbody tr th {\n",
       "        vertical-align: top;\n",
       "    }\n",
       "\n",
       "    .dataframe thead th {\n",
       "        text-align: right;\n",
       "    }\n",
       "</style>\n",
       "<table border=\"1\" class=\"dataframe\">\n",
       "  <thead>\n",
       "    <tr style=\"text-align: right;\">\n",
       "      <th></th>\n",
       "      <th>number</th>\n",
       "      <th>title</th>\n",
       "      <th>year</th>\n",
       "      <th>rating</th>\n",
       "    </tr>\n",
       "  </thead>\n",
       "  <tbody>\n",
       "    <tr>\n",
       "      <th>0</th>\n",
       "      <td>1.0</td>\n",
       "      <td>The Shawshank Redemption</td>\n",
       "      <td>-1994</td>\n",
       "      <td>9.3</td>\n",
       "    </tr>\n",
       "    <tr>\n",
       "      <th>1</th>\n",
       "      <td>2.0</td>\n",
       "      <td>The Godfather</td>\n",
       "      <td>-1972</td>\n",
       "      <td>9.2</td>\n",
       "    </tr>\n",
       "    <tr>\n",
       "      <th>2</th>\n",
       "      <td>3.0</td>\n",
       "      <td>The Dark Knight</td>\n",
       "      <td>-2008</td>\n",
       "      <td>9.0</td>\n",
       "    </tr>\n",
       "    <tr>\n",
       "      <th>3</th>\n",
       "      <td>4.0</td>\n",
       "      <td>The Godfather Part II</td>\n",
       "      <td>-1974</td>\n",
       "      <td>9.0</td>\n",
       "    </tr>\n",
       "    <tr>\n",
       "      <th>4</th>\n",
       "      <td>5.0</td>\n",
       "      <td>12 Angry Men</td>\n",
       "      <td>-1957</td>\n",
       "      <td>9.0</td>\n",
       "    </tr>\n",
       "    <tr>\n",
       "      <th>5</th>\n",
       "      <td>6.0</td>\n",
       "      <td>Schindler's List</td>\n",
       "      <td>-1993</td>\n",
       "      <td>9.0</td>\n",
       "    </tr>\n",
       "    <tr>\n",
       "      <th>6</th>\n",
       "      <td>7.0</td>\n",
       "      <td>The Lord of the Rings: The Return of the King</td>\n",
       "      <td>-2003</td>\n",
       "      <td>9.0</td>\n",
       "    </tr>\n",
       "    <tr>\n",
       "      <th>7</th>\n",
       "      <td>8.0</td>\n",
       "      <td>Pulp Fiction</td>\n",
       "      <td>-1994</td>\n",
       "      <td>8.9</td>\n",
       "    </tr>\n",
       "    <tr>\n",
       "      <th>8</th>\n",
       "      <td>9.0</td>\n",
       "      <td>The Lord of the Rings: The Fellowship of the Ring</td>\n",
       "      <td>-2001</td>\n",
       "      <td>8.8</td>\n",
       "    </tr>\n",
       "    <tr>\n",
       "      <th>9</th>\n",
       "      <td>10.0</td>\n",
       "      <td>The Good, the Bad and the Ugly</td>\n",
       "      <td>-1966</td>\n",
       "      <td>8.8</td>\n",
       "    </tr>\n",
       "  </tbody>\n",
       "</table>\n",
       "</div>"
      ],
      "text/plain": [
       "   number                                              title  year  rating\n",
       "0     1.0                           The Shawshank Redemption -1994     9.3\n",
       "1     2.0                                      The Godfather -1972     9.2\n",
       "2     3.0                                    The Dark Knight -2008     9.0\n",
       "3     4.0                              The Godfather Part II -1974     9.0\n",
       "4     5.0                                       12 Angry Men -1957     9.0\n",
       "5     6.0                                   Schindler's List -1993     9.0\n",
       "6     7.0      The Lord of the Rings: The Return of the King -2003     9.0\n",
       "7     8.0                                       Pulp Fiction -1994     8.9\n",
       "8     9.0  The Lord of the Rings: The Fellowship of the Ring -2001     8.8\n",
       "9    10.0                     The Good, the Bad and the Ugly -1966     8.8"
      ]
     },
     "execution_count": 3,
     "metadata": {},
     "output_type": "execute_result"
    }
   ],
   "source": [
    "films.head(10)"
   ]
  },
  {
   "cell_type": "code",
   "execution_count": 4,
   "metadata": {},
   "outputs": [
    {
     "data": {
      "text/html": [
       "<div>\n",
       "<style scoped>\n",
       "    .dataframe tbody tr th:only-of-type {\n",
       "        vertical-align: middle;\n",
       "    }\n",
       "\n",
       "    .dataframe tbody tr th {\n",
       "        vertical-align: top;\n",
       "    }\n",
       "\n",
       "    .dataframe thead th {\n",
       "        text-align: right;\n",
       "    }\n",
       "</style>\n",
       "<table border=\"1\" class=\"dataframe\">\n",
       "  <thead>\n",
       "    <tr style=\"text-align: right;\">\n",
       "      <th></th>\n",
       "      <th>posterColumn href</th>\n",
       "      <th>posterColumn src</th>\n",
       "      <th>titleColumn</th>\n",
       "      <th>titleColumn 2</th>\n",
       "      <th>secondaryInfo</th>\n",
       "      <th>ratingColumn</th>\n",
       "    </tr>\n",
       "  </thead>\n",
       "  <tbody>\n",
       "    <tr>\n",
       "      <th>0</th>\n",
       "      <td>https://www.imdb.com/title/tt5491994/?pf_rd_m=...</td>\n",
       "      <td>https://m.media-amazon.com/images/M/MV5BMGZmYm...</td>\n",
       "      <td>1.0</td>\n",
       "      <td>Planet Earth II</td>\n",
       "      <td>(2016)</td>\n",
       "      <td>9.4</td>\n",
       "    </tr>\n",
       "    <tr>\n",
       "      <th>1</th>\n",
       "      <td>https://www.imdb.com/title/tt0903747/?pf_rd_m=...</td>\n",
       "      <td>https://m.media-amazon.com/images/M/MV5BYmQ4YW...</td>\n",
       "      <td>2.0</td>\n",
       "      <td>Breaking Bad</td>\n",
       "      <td>(2008)</td>\n",
       "      <td>9.4</td>\n",
       "    </tr>\n",
       "    <tr>\n",
       "      <th>2</th>\n",
       "      <td>https://www.imdb.com/title/tt0795176/?pf_rd_m=...</td>\n",
       "      <td>https://m.media-amazon.com/images/M/MV5BMzMyYj...</td>\n",
       "      <td>3.0</td>\n",
       "      <td>Planet Earth</td>\n",
       "      <td>(2006)</td>\n",
       "      <td>9.4</td>\n",
       "    </tr>\n",
       "    <tr>\n",
       "      <th>3</th>\n",
       "      <td>https://www.imdb.com/title/tt0185906/?pf_rd_m=...</td>\n",
       "      <td>https://m.media-amazon.com/images/M/MV5BMTI3OD...</td>\n",
       "      <td>4.0</td>\n",
       "      <td>Band of Brothers</td>\n",
       "      <td>(2001)</td>\n",
       "      <td>9.4</td>\n",
       "    </tr>\n",
       "    <tr>\n",
       "      <th>4</th>\n",
       "      <td>https://www.imdb.com/title/tt7366338/?pf_rd_m=...</td>\n",
       "      <td>https://m.media-amazon.com/images/M/MV5BNTdkN2...</td>\n",
       "      <td>5.0</td>\n",
       "      <td>Chernobyl</td>\n",
       "      <td>(2019)</td>\n",
       "      <td>9.3</td>\n",
       "    </tr>\n",
       "    <tr>\n",
       "      <th>5</th>\n",
       "      <td>https://www.imdb.com/title/tt0306414/?pf_rd_m=...</td>\n",
       "      <td>https://m.media-amazon.com/images/M/MV5BNTllYz...</td>\n",
       "      <td>6.0</td>\n",
       "      <td>The Wire</td>\n",
       "      <td>(2002)</td>\n",
       "      <td>9.3</td>\n",
       "    </tr>\n",
       "    <tr>\n",
       "      <th>6</th>\n",
       "      <td>https://www.imdb.com/title/tt0417299/?pf_rd_m=...</td>\n",
       "      <td>https://m.media-amazon.com/images/M/MV5BODc5YT...</td>\n",
       "      <td>7.0</td>\n",
       "      <td>Avatar: The Last Airbender</td>\n",
       "      <td>(2005)</td>\n",
       "      <td>9.2</td>\n",
       "    </tr>\n",
       "    <tr>\n",
       "      <th>7</th>\n",
       "      <td>https://www.imdb.com/title/tt6769208/?pf_rd_m=...</td>\n",
       "      <td>https://m.media-amazon.com/images/M/MV5BNDZiND...</td>\n",
       "      <td>8.0</td>\n",
       "      <td>Blue Planet II</td>\n",
       "      <td>(2017)</td>\n",
       "      <td>9.2</td>\n",
       "    </tr>\n",
       "    <tr>\n",
       "      <th>8</th>\n",
       "      <td>https://www.imdb.com/title/tt0141842/?pf_rd_m=...</td>\n",
       "      <td>https://m.media-amazon.com/images/M/MV5BZGJjYz...</td>\n",
       "      <td>9.0</td>\n",
       "      <td>The Sopranos</td>\n",
       "      <td>(1999)</td>\n",
       "      <td>9.2</td>\n",
       "    </tr>\n",
       "    <tr>\n",
       "      <th>9</th>\n",
       "      <td>https://www.imdb.com/title/tt2395695/?pf_rd_m=...</td>\n",
       "      <td>https://m.media-amazon.com/images/M/MV5BZTk5OT...</td>\n",
       "      <td>10.0</td>\n",
       "      <td>Cosmos: A Spacetime Odyssey</td>\n",
       "      <td>(2014)</td>\n",
       "      <td>9.2</td>\n",
       "    </tr>\n",
       "  </tbody>\n",
       "</table>\n",
       "</div>"
      ],
      "text/plain": [
       "                                   posterColumn href  \\\n",
       "0  https://www.imdb.com/title/tt5491994/?pf_rd_m=...   \n",
       "1  https://www.imdb.com/title/tt0903747/?pf_rd_m=...   \n",
       "2  https://www.imdb.com/title/tt0795176/?pf_rd_m=...   \n",
       "3  https://www.imdb.com/title/tt0185906/?pf_rd_m=...   \n",
       "4  https://www.imdb.com/title/tt7366338/?pf_rd_m=...   \n",
       "5  https://www.imdb.com/title/tt0306414/?pf_rd_m=...   \n",
       "6  https://www.imdb.com/title/tt0417299/?pf_rd_m=...   \n",
       "7  https://www.imdb.com/title/tt6769208/?pf_rd_m=...   \n",
       "8  https://www.imdb.com/title/tt0141842/?pf_rd_m=...   \n",
       "9  https://www.imdb.com/title/tt2395695/?pf_rd_m=...   \n",
       "\n",
       "                                    posterColumn src  titleColumn  \\\n",
       "0  https://m.media-amazon.com/images/M/MV5BMGZmYm...          1.0   \n",
       "1  https://m.media-amazon.com/images/M/MV5BYmQ4YW...          2.0   \n",
       "2  https://m.media-amazon.com/images/M/MV5BMzMyYj...          3.0   \n",
       "3  https://m.media-amazon.com/images/M/MV5BMTI3OD...          4.0   \n",
       "4  https://m.media-amazon.com/images/M/MV5BNTdkN2...          5.0   \n",
       "5  https://m.media-amazon.com/images/M/MV5BNTllYz...          6.0   \n",
       "6  https://m.media-amazon.com/images/M/MV5BODc5YT...          7.0   \n",
       "7  https://m.media-amazon.com/images/M/MV5BNDZiND...          8.0   \n",
       "8  https://m.media-amazon.com/images/M/MV5BZGJjYz...          9.0   \n",
       "9  https://m.media-amazon.com/images/M/MV5BZTk5OT...         10.0   \n",
       "\n",
       "                 titleColumn 2 secondaryInfo  ratingColumn  \n",
       "0              Planet Earth II        (2016)           9.4  \n",
       "1                 Breaking Bad        (2008)           9.4  \n",
       "2                 Planet Earth        (2006)           9.4  \n",
       "3             Band of Brothers        (2001)           9.4  \n",
       "4                    Chernobyl        (2019)           9.3  \n",
       "5                     The Wire        (2002)           9.3  \n",
       "6   Avatar: The Last Airbender        (2005)           9.2  \n",
       "7               Blue Planet II        (2017)           9.2  \n",
       "8                 The Sopranos        (1999)           9.2  \n",
       "9  Cosmos: A Spacetime Odyssey        (2014)           9.2  "
      ]
     },
     "execution_count": 4,
     "metadata": {},
     "output_type": "execute_result"
    }
   ],
   "source": [
    "series.head(10)"
   ]
  },
  {
   "cell_type": "markdown",
   "metadata": {},
   "source": [
    "### data cleaning"
   ]
  },
  {
   "cell_type": "code",
   "execution_count": 5,
   "metadata": {},
   "outputs": [
    {
     "name": "stdout",
     "output_type": "stream",
     "text": [
      "<class 'pandas.core.frame.DataFrame'>\n",
      "RangeIndex: 250 entries, 0 to 249\n",
      "Data columns (total 4 columns):\n",
      " #   Column  Non-Null Count  Dtype  \n",
      "---  ------  --------------  -----  \n",
      " 0   number  250 non-null    float64\n",
      " 1   title   250 non-null    object \n",
      " 2   year    250 non-null    int64  \n",
      " 3   rating  250 non-null    float64\n",
      "dtypes: float64(2), int64(1), object(1)\n",
      "memory usage: 7.9+ KB\n"
     ]
    }
   ],
   "source": [
    "films.info()"
   ]
  },
  {
   "cell_type": "code",
   "execution_count": 6,
   "metadata": {},
   "outputs": [],
   "source": [
    "films['year'] = films['year'].abs()"
   ]
  },
  {
   "cell_type": "code",
   "execution_count": 7,
   "metadata": {},
   "outputs": [
    {
     "data": {
      "text/html": [
       "<div>\n",
       "<style scoped>\n",
       "    .dataframe tbody tr th:only-of-type {\n",
       "        vertical-align: middle;\n",
       "    }\n",
       "\n",
       "    .dataframe tbody tr th {\n",
       "        vertical-align: top;\n",
       "    }\n",
       "\n",
       "    .dataframe thead th {\n",
       "        text-align: right;\n",
       "    }\n",
       "</style>\n",
       "<table border=\"1\" class=\"dataframe\">\n",
       "  <thead>\n",
       "    <tr style=\"text-align: right;\">\n",
       "      <th></th>\n",
       "      <th>number</th>\n",
       "      <th>title</th>\n",
       "      <th>year</th>\n",
       "      <th>rating</th>\n",
       "    </tr>\n",
       "  </thead>\n",
       "  <tbody>\n",
       "    <tr>\n",
       "      <th>0</th>\n",
       "      <td>1.0</td>\n",
       "      <td>The Shawshank Redemption</td>\n",
       "      <td>1994</td>\n",
       "      <td>9.3</td>\n",
       "    </tr>\n",
       "    <tr>\n",
       "      <th>1</th>\n",
       "      <td>2.0</td>\n",
       "      <td>The Godfather</td>\n",
       "      <td>1972</td>\n",
       "      <td>9.2</td>\n",
       "    </tr>\n",
       "    <tr>\n",
       "      <th>2</th>\n",
       "      <td>3.0</td>\n",
       "      <td>The Dark Knight</td>\n",
       "      <td>2008</td>\n",
       "      <td>9.0</td>\n",
       "    </tr>\n",
       "    <tr>\n",
       "      <th>3</th>\n",
       "      <td>4.0</td>\n",
       "      <td>The Godfather Part II</td>\n",
       "      <td>1974</td>\n",
       "      <td>9.0</td>\n",
       "    </tr>\n",
       "    <tr>\n",
       "      <th>4</th>\n",
       "      <td>5.0</td>\n",
       "      <td>12 Angry Men</td>\n",
       "      <td>1957</td>\n",
       "      <td>9.0</td>\n",
       "    </tr>\n",
       "  </tbody>\n",
       "</table>\n",
       "</div>"
      ],
      "text/plain": [
       "   number                     title  year  rating\n",
       "0     1.0  The Shawshank Redemption  1994     9.3\n",
       "1     2.0             The Godfather  1972     9.2\n",
       "2     3.0           The Dark Knight  2008     9.0\n",
       "3     4.0     The Godfather Part II  1974     9.0\n",
       "4     5.0              12 Angry Men  1957     9.0"
      ]
     },
     "execution_count": 7,
     "metadata": {},
     "output_type": "execute_result"
    }
   ],
   "source": [
    "films.head()"
   ]
  },
  {
   "cell_type": "code",
   "execution_count": 8,
   "metadata": {},
   "outputs": [
    {
     "name": "stdout",
     "output_type": "stream",
     "text": [
      "<class 'pandas.core.frame.DataFrame'>\n",
      "RangeIndex: 250 entries, 0 to 249\n",
      "Data columns (total 6 columns):\n",
      " #   Column             Non-Null Count  Dtype  \n",
      "---  ------             --------------  -----  \n",
      " 0   posterColumn href  250 non-null    object \n",
      " 1   posterColumn src   250 non-null    object \n",
      " 2   titleColumn        250 non-null    float64\n",
      " 3   titleColumn 2      250 non-null    object \n",
      " 4   secondaryInfo      250 non-null    object \n",
      " 5   ratingColumn       250 non-null    float64\n",
      "dtypes: float64(2), object(4)\n",
      "memory usage: 11.8+ KB\n"
     ]
    }
   ],
   "source": [
    "series.info()"
   ]
  },
  {
   "cell_type": "code",
   "execution_count": 9,
   "metadata": {},
   "outputs": [],
   "source": [
    "series.drop(['posterColumn href', 'posterColumn src'], axis=1, inplace=True)"
   ]
  },
  {
   "cell_type": "code",
   "execution_count": 10,
   "metadata": {},
   "outputs": [
    {
     "data": {
      "text/html": [
       "<div>\n",
       "<style scoped>\n",
       "    .dataframe tbody tr th:only-of-type {\n",
       "        vertical-align: middle;\n",
       "    }\n",
       "\n",
       "    .dataframe tbody tr th {\n",
       "        vertical-align: top;\n",
       "    }\n",
       "\n",
       "    .dataframe thead th {\n",
       "        text-align: right;\n",
       "    }\n",
       "</style>\n",
       "<table border=\"1\" class=\"dataframe\">\n",
       "  <thead>\n",
       "    <tr style=\"text-align: right;\">\n",
       "      <th></th>\n",
       "      <th>titleColumn</th>\n",
       "      <th>titleColumn 2</th>\n",
       "      <th>secondaryInfo</th>\n",
       "      <th>ratingColumn</th>\n",
       "    </tr>\n",
       "  </thead>\n",
       "  <tbody>\n",
       "    <tr>\n",
       "      <th>0</th>\n",
       "      <td>1.0</td>\n",
       "      <td>Planet Earth II</td>\n",
       "      <td>(2016)</td>\n",
       "      <td>9.4</td>\n",
       "    </tr>\n",
       "    <tr>\n",
       "      <th>1</th>\n",
       "      <td>2.0</td>\n",
       "      <td>Breaking Bad</td>\n",
       "      <td>(2008)</td>\n",
       "      <td>9.4</td>\n",
       "    </tr>\n",
       "    <tr>\n",
       "      <th>2</th>\n",
       "      <td>3.0</td>\n",
       "      <td>Planet Earth</td>\n",
       "      <td>(2006)</td>\n",
       "      <td>9.4</td>\n",
       "    </tr>\n",
       "    <tr>\n",
       "      <th>3</th>\n",
       "      <td>4.0</td>\n",
       "      <td>Band of Brothers</td>\n",
       "      <td>(2001)</td>\n",
       "      <td>9.4</td>\n",
       "    </tr>\n",
       "    <tr>\n",
       "      <th>4</th>\n",
       "      <td>5.0</td>\n",
       "      <td>Chernobyl</td>\n",
       "      <td>(2019)</td>\n",
       "      <td>9.3</td>\n",
       "    </tr>\n",
       "  </tbody>\n",
       "</table>\n",
       "</div>"
      ],
      "text/plain": [
       "   titleColumn     titleColumn 2 secondaryInfo  ratingColumn\n",
       "0          1.0   Planet Earth II        (2016)           9.4\n",
       "1          2.0      Breaking Bad        (2008)           9.4\n",
       "2          3.0      Planet Earth        (2006)           9.4\n",
       "3          4.0  Band of Brothers        (2001)           9.4\n",
       "4          5.0         Chernobyl        (2019)           9.3"
      ]
     },
     "execution_count": 10,
     "metadata": {},
     "output_type": "execute_result"
    }
   ],
   "source": [
    "series.head()"
   ]
  },
  {
   "cell_type": "code",
   "execution_count": 11,
   "metadata": {},
   "outputs": [],
   "source": [
    "series.rename(\n",
    "    columns={\n",
    "        'titleColumn': 'Number',\n",
    "        'titleColumn 2': 'Title',\n",
    "        'secondaryInfo': 'Year',\n",
    "        'ratingColumn': 'Rating'\n",
    "    },\n",
    "    inplace=True\n",
    ")"
   ]
  },
  {
   "cell_type": "code",
   "execution_count": 12,
   "metadata": {},
   "outputs": [
    {
     "data": {
      "text/html": [
       "<div>\n",
       "<style scoped>\n",
       "    .dataframe tbody tr th:only-of-type {\n",
       "        vertical-align: middle;\n",
       "    }\n",
       "\n",
       "    .dataframe tbody tr th {\n",
       "        vertical-align: top;\n",
       "    }\n",
       "\n",
       "    .dataframe thead th {\n",
       "        text-align: right;\n",
       "    }\n",
       "</style>\n",
       "<table border=\"1\" class=\"dataframe\">\n",
       "  <thead>\n",
       "    <tr style=\"text-align: right;\">\n",
       "      <th></th>\n",
       "      <th>Number</th>\n",
       "      <th>Title</th>\n",
       "      <th>Year</th>\n",
       "      <th>Rating</th>\n",
       "    </tr>\n",
       "  </thead>\n",
       "  <tbody>\n",
       "    <tr>\n",
       "      <th>0</th>\n",
       "      <td>1.0</td>\n",
       "      <td>Planet Earth II</td>\n",
       "      <td>(2016)</td>\n",
       "      <td>9.4</td>\n",
       "    </tr>\n",
       "    <tr>\n",
       "      <th>1</th>\n",
       "      <td>2.0</td>\n",
       "      <td>Breaking Bad</td>\n",
       "      <td>(2008)</td>\n",
       "      <td>9.4</td>\n",
       "    </tr>\n",
       "    <tr>\n",
       "      <th>2</th>\n",
       "      <td>3.0</td>\n",
       "      <td>Planet Earth</td>\n",
       "      <td>(2006)</td>\n",
       "      <td>9.4</td>\n",
       "    </tr>\n",
       "    <tr>\n",
       "      <th>3</th>\n",
       "      <td>4.0</td>\n",
       "      <td>Band of Brothers</td>\n",
       "      <td>(2001)</td>\n",
       "      <td>9.4</td>\n",
       "    </tr>\n",
       "    <tr>\n",
       "      <th>4</th>\n",
       "      <td>5.0</td>\n",
       "      <td>Chernobyl</td>\n",
       "      <td>(2019)</td>\n",
       "      <td>9.3</td>\n",
       "    </tr>\n",
       "  </tbody>\n",
       "</table>\n",
       "</div>"
      ],
      "text/plain": [
       "   Number             Title    Year  Rating\n",
       "0     1.0   Planet Earth II  (2016)     9.4\n",
       "1     2.0      Breaking Bad  (2008)     9.4\n",
       "2     3.0      Planet Earth  (2006)     9.4\n",
       "3     4.0  Band of Brothers  (2001)     9.4\n",
       "4     5.0         Chernobyl  (2019)     9.3"
      ]
     },
     "execution_count": 12,
     "metadata": {},
     "output_type": "execute_result"
    }
   ],
   "source": [
    "series.head()"
   ]
  },
  {
   "cell_type": "code",
   "execution_count": 13,
   "metadata": {},
   "outputs": [],
   "source": [
    "series['Year'] = series['Year'].astype('string')"
   ]
  },
  {
   "cell_type": "code",
   "execution_count": 14,
   "metadata": {},
   "outputs": [],
   "source": [
    "series['Year2'] = series['Year'].str.replace('(', '')"
   ]
  },
  {
   "cell_type": "code",
   "execution_count": 15,
   "metadata": {},
   "outputs": [
    {
     "data": {
      "text/html": [
       "<div>\n",
       "<style scoped>\n",
       "    .dataframe tbody tr th:only-of-type {\n",
       "        vertical-align: middle;\n",
       "    }\n",
       "\n",
       "    .dataframe tbody tr th {\n",
       "        vertical-align: top;\n",
       "    }\n",
       "\n",
       "    .dataframe thead th {\n",
       "        text-align: right;\n",
       "    }\n",
       "</style>\n",
       "<table border=\"1\" class=\"dataframe\">\n",
       "  <thead>\n",
       "    <tr style=\"text-align: right;\">\n",
       "      <th></th>\n",
       "      <th>Number</th>\n",
       "      <th>Title</th>\n",
       "      <th>Year</th>\n",
       "      <th>Rating</th>\n",
       "      <th>Year2</th>\n",
       "    </tr>\n",
       "  </thead>\n",
       "  <tbody>\n",
       "    <tr>\n",
       "      <th>0</th>\n",
       "      <td>1.0</td>\n",
       "      <td>Planet Earth II</td>\n",
       "      <td>(2016)</td>\n",
       "      <td>9.4</td>\n",
       "      <td>2016)</td>\n",
       "    </tr>\n",
       "    <tr>\n",
       "      <th>1</th>\n",
       "      <td>2.0</td>\n",
       "      <td>Breaking Bad</td>\n",
       "      <td>(2008)</td>\n",
       "      <td>9.4</td>\n",
       "      <td>2008)</td>\n",
       "    </tr>\n",
       "    <tr>\n",
       "      <th>2</th>\n",
       "      <td>3.0</td>\n",
       "      <td>Planet Earth</td>\n",
       "      <td>(2006)</td>\n",
       "      <td>9.4</td>\n",
       "      <td>2006)</td>\n",
       "    </tr>\n",
       "    <tr>\n",
       "      <th>3</th>\n",
       "      <td>4.0</td>\n",
       "      <td>Band of Brothers</td>\n",
       "      <td>(2001)</td>\n",
       "      <td>9.4</td>\n",
       "      <td>2001)</td>\n",
       "    </tr>\n",
       "    <tr>\n",
       "      <th>4</th>\n",
       "      <td>5.0</td>\n",
       "      <td>Chernobyl</td>\n",
       "      <td>(2019)</td>\n",
       "      <td>9.3</td>\n",
       "      <td>2019)</td>\n",
       "    </tr>\n",
       "  </tbody>\n",
       "</table>\n",
       "</div>"
      ],
      "text/plain": [
       "   Number             Title    Year  Rating  Year2\n",
       "0     1.0   Planet Earth II  (2016)     9.4  2016)\n",
       "1     2.0      Breaking Bad  (2008)     9.4  2008)\n",
       "2     3.0      Planet Earth  (2006)     9.4  2006)\n",
       "3     4.0  Band of Brothers  (2001)     9.4  2001)\n",
       "4     5.0         Chernobyl  (2019)     9.3  2019)"
      ]
     },
     "execution_count": 15,
     "metadata": {},
     "output_type": "execute_result"
    }
   ],
   "source": [
    "series.head()"
   ]
  },
  {
   "cell_type": "code",
   "execution_count": 16,
   "metadata": {},
   "outputs": [],
   "source": [
    "series['Year2'] = series['Year2'].str.replace(')', '')"
   ]
  },
  {
   "cell_type": "code",
   "execution_count": 17,
   "metadata": {},
   "outputs": [
    {
     "data": {
      "text/html": [
       "<div>\n",
       "<style scoped>\n",
       "    .dataframe tbody tr th:only-of-type {\n",
       "        vertical-align: middle;\n",
       "    }\n",
       "\n",
       "    .dataframe tbody tr th {\n",
       "        vertical-align: top;\n",
       "    }\n",
       "\n",
       "    .dataframe thead th {\n",
       "        text-align: right;\n",
       "    }\n",
       "</style>\n",
       "<table border=\"1\" class=\"dataframe\">\n",
       "  <thead>\n",
       "    <tr style=\"text-align: right;\">\n",
       "      <th></th>\n",
       "      <th>Number</th>\n",
       "      <th>Title</th>\n",
       "      <th>Year</th>\n",
       "      <th>Rating</th>\n",
       "      <th>Year2</th>\n",
       "    </tr>\n",
       "  </thead>\n",
       "  <tbody>\n",
       "    <tr>\n",
       "      <th>0</th>\n",
       "      <td>1.0</td>\n",
       "      <td>Planet Earth II</td>\n",
       "      <td>(2016)</td>\n",
       "      <td>9.4</td>\n",
       "      <td>2016</td>\n",
       "    </tr>\n",
       "    <tr>\n",
       "      <th>1</th>\n",
       "      <td>2.0</td>\n",
       "      <td>Breaking Bad</td>\n",
       "      <td>(2008)</td>\n",
       "      <td>9.4</td>\n",
       "      <td>2008</td>\n",
       "    </tr>\n",
       "    <tr>\n",
       "      <th>2</th>\n",
       "      <td>3.0</td>\n",
       "      <td>Planet Earth</td>\n",
       "      <td>(2006)</td>\n",
       "      <td>9.4</td>\n",
       "      <td>2006</td>\n",
       "    </tr>\n",
       "    <tr>\n",
       "      <th>3</th>\n",
       "      <td>4.0</td>\n",
       "      <td>Band of Brothers</td>\n",
       "      <td>(2001)</td>\n",
       "      <td>9.4</td>\n",
       "      <td>2001</td>\n",
       "    </tr>\n",
       "    <tr>\n",
       "      <th>4</th>\n",
       "      <td>5.0</td>\n",
       "      <td>Chernobyl</td>\n",
       "      <td>(2019)</td>\n",
       "      <td>9.3</td>\n",
       "      <td>2019</td>\n",
       "    </tr>\n",
       "  </tbody>\n",
       "</table>\n",
       "</div>"
      ],
      "text/plain": [
       "   Number             Title    Year  Rating Year2\n",
       "0     1.0   Planet Earth II  (2016)     9.4  2016\n",
       "1     2.0      Breaking Bad  (2008)     9.4  2008\n",
       "2     3.0      Planet Earth  (2006)     9.4  2006\n",
       "3     4.0  Band of Brothers  (2001)     9.4  2001\n",
       "4     5.0         Chernobyl  (2019)     9.3  2019"
      ]
     },
     "execution_count": 17,
     "metadata": {},
     "output_type": "execute_result"
    }
   ],
   "source": [
    "series.head()"
   ]
  },
  {
   "cell_type": "code",
   "execution_count": 18,
   "metadata": {},
   "outputs": [],
   "source": [
    "series['Year2'] = series['Year2'].astype('int')"
   ]
  },
  {
   "cell_type": "code",
   "execution_count": 19,
   "metadata": {},
   "outputs": [
    {
     "name": "stdout",
     "output_type": "stream",
     "text": [
      "<class 'pandas.core.frame.DataFrame'>\n",
      "RangeIndex: 250 entries, 0 to 249\n",
      "Data columns (total 5 columns):\n",
      " #   Column  Non-Null Count  Dtype  \n",
      "---  ------  --------------  -----  \n",
      " 0   Number  250 non-null    float64\n",
      " 1   Title   250 non-null    object \n",
      " 2   Year    250 non-null    string \n",
      " 3   Rating  250 non-null    float64\n",
      " 4   Year2   250 non-null    int64  \n",
      "dtypes: float64(2), int64(1), object(1), string(1)\n",
      "memory usage: 9.9+ KB\n"
     ]
    }
   ],
   "source": [
    "series.info()"
   ]
  },
  {
   "cell_type": "markdown",
   "metadata": {},
   "source": [
    "### visualization"
   ]
  },
  {
   "cell_type": "code",
   "execution_count": 20,
   "metadata": {},
   "outputs": [],
   "source": [
    "import matplotlib.pyplot as plt"
   ]
  },
  {
   "cell_type": "code",
   "execution_count": 21,
   "metadata": {},
   "outputs": [
    {
     "data": {
      "image/png": "[encoded data removed]",
      "text/plain": [
       "<Figure size 640x480 with 1 Axes>"
      ]
     },
     "metadata": {},
     "output_type": "display_data"
    }
   ],
   "source": [
    "series['Year'].hist(bins=20);"
   ]
  },
  {
   "cell_type": "code",
   "execution_count": 22,
   "metadata": {},
   "outputs": [
    {
     "data": {
      "image/png": "[encoded data removed]",
      "text/plain": [
       "<Figure size 640x480 with 1 Axes>"
      ]
     },
     "metadata": {},
     "output_type": "display_data"
    }
   ],
   "source": [
    "series['Year2'].hist(bins=20);"
   ]
  },
  {
   "cell_type": "code",
   "execution_count": 24,
   "metadata": {},
   "outputs": [],
   "source": [
    "series2 = pd.read_csv('./Imdb_series_clean.csv')"
   ]
  },
  {
   "cell_type": "code",
   "execution_count": null,
   "metadata": {},
   "outputs": [],
   "source": []
  }
 ],
 "metadata": {
  "kernelspec": {
   "display_name": "base",
   "language": "python",
   "name": "python3"
  },
  "language_info": {
   "codemirror_mode": {
    "name": "ipython",
    "version": 3
   },
   "file_extension": ".py",
   "mimetype": "text/x-python",
   "name": "python",
   "nbconvert_exporter": "python",
   "pygments_lexer": "ipython3",
   "version": "3.11.7"
  }
 },
 "nbformat": 4,
 "nbformat_minor": 2
}
